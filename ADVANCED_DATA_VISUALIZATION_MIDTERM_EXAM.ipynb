{
  "nbformat": 4,
  "nbformat_minor": 0,
  "metadata": {
    "colab": {
      "provenance": [],
      "authorship_tag": "ABX9TyNuqb5D+kiH1L1ipZj2hQQ4",
      "include_colab_link": true
    },
    "kernelspec": {
      "name": "python3",
      "display_name": "Python 3"
    },
    "language_info": {
      "name": "python"
    }
  },
  "cells": [
    {
      "cell_type": "markdown",
      "metadata": {
        "id": "view-in-github",
        "colab_type": "text"
      },
      "source": [
        "<a href=\"https://colab.research.google.com/github/joannediaz04/ADVANCED-DATA-VISUALIZATION-MIDTERM-EXAM/blob/main/ADVANCED_DATA_VISUALIZATION_MIDTERM_EXAM.ipynb\" target=\"_parent\"><img src=\"https://colab.research.google.com/assets/colab-badge.svg\" alt=\"Open In Colab\"/></a>"
      ]
    },
    {
      "cell_type": "code",
      "source": [
        "name = input(\"what is your name? \")\n",
        "print(\"Hello\", \"Joanne Diaz\")\n",
        "age = input(\"How old are you? \")\n",
        "print (\"Joanne Diaz\", 22, \"years old\")"
      ],
      "metadata": {
        "colab": {
          "base_uri": "https://localhost:8080/"
        },
        "id": "F43yH6qjtMQz",
        "outputId": "a2f7f7f1-c8d2-4764-ed9f-8c91e0f4606c"
      },
      "execution_count": 14,
      "outputs": [
        {
          "output_type": "stream",
          "name": "stdout",
          "text": [
            "what is your name? joanne diaz\n",
            "Hello Joanne Diaz\n",
            "How old are you? 22\n",
            "Joanne Diaz 22 years old\n"
          ]
        }
      ]
    },
    {
      "cell_type": "code",
      "source": [
        "s = \"pizza\"\n",
        "t = s.capitalize()\n",
        "\n",
        "print(t)"
      ],
      "metadata": {
        "colab": {
          "base_uri": "https://localhost:8080/"
        },
        "id": "4hN2Tg-Bt3So",
        "outputId": "a74da5de-2814-47f8-e505-3657a44ba113"
      },
      "execution_count": 15,
      "outputs": [
        {
          "output_type": "stream",
          "name": "stdout",
          "text": [
            "Pizza\n"
          ]
        }
      ]
    },
    {
      "cell_type": "code",
      "source": [
        "s = \"pizza\"\n",
        "t = s.upper()\n",
        "\n",
        "print(t)"
      ],
      "metadata": {
        "colab": {
          "base_uri": "https://localhost:8080/"
        },
        "id": "CHTqI8uUuLlp",
        "outputId": "405bd2ef-b14f-4b3c-e476-74b4942060aa"
      },
      "execution_count": 16,
      "outputs": [
        {
          "output_type": "stream",
          "name": "stdout",
          "text": [
            "PIZZA\n"
          ]
        }
      ]
    },
    {
      "cell_type": "code",
      "source": [
        "s = \"pizza\"\n",
        "t = s.lower()\n",
        "\n",
        "print(t)"
      ],
      "metadata": {
        "colab": {
          "base_uri": "https://localhost:8080/"
        },
        "id": "mFs3z3USud9E",
        "outputId": "2ea8ed25-ac16-4644-afdd-ac59e03d2272"
      },
      "execution_count": 17,
      "outputs": [
        {
          "output_type": "stream",
          "name": "stdout",
          "text": [
            "pizza\n"
          ]
        }
      ]
    },
    {
      "cell_type": "code",
      "source": [
        "name = \"Read\"\n",
        "name.replace('Read', 'Peal') \n"
      ],
      "metadata": {
        "colab": {
          "base_uri": "https://localhost:8080/",
          "height": 35
        },
        "id": "z75-WznbxcRA",
        "outputId": "9e5a6ce2-b6db-4b7a-c666-4c5b010b7066"
      },
      "execution_count": 53,
      "outputs": [
        {
          "output_type": "execute_result",
          "data": {
            "text/plain": [
              "'Peal'"
            ],
            "application/vnd.google.colaboratory.intrinsic+json": {
              "type": "string"
            }
          },
          "metadata": {},
          "execution_count": 53
        }
      ]
    },
    {
      "cell_type": "code",
      "source": [
        "a = 2\n",
        "b = 3\n",
        "c = 2.3\n",
        "d = True\n",
        "type(a),type(b),type(c),type(d)"
      ],
      "metadata": {
        "colab": {
          "base_uri": "https://localhost:8080/"
        },
        "id": "HYDpsJYz1KJz",
        "outputId": "10d57ec9-8008-4911-9fa3-6e108d2b106e"
      },
      "execution_count": 49,
      "outputs": [
        {
          "output_type": "execute_result",
          "data": {
            "text/plain": [
              "(int, int, float, bool)"
            ]
          },
          "metadata": {},
          "execution_count": 49
        }
      ]
    },
    {
      "cell_type": "code",
      "source": [
        "name = input(\"I am\")\n",
        "print(f\"Hello {name}!\")\n",
        "birth_year = input(\"What is your birth year? \")\n",
        "birth_year = int(birth_year)\n",
        "print(f\"You are {(22)} years old!\")"
      ],
      "metadata": {
        "colab": {
          "base_uri": "https://localhost:8080/"
        },
        "id": "4eC1WhqQ2bW5",
        "outputId": "4e5e6960-27f7-453b-9281-5a2c596e1f01"
      },
      "execution_count": 52,
      "outputs": [
        {
          "output_type": "stream",
          "name": "stdout",
          "text": [
            "I amJoanne Diaz\n",
            "Hello Joanne Diaz!\n",
            "What is your birth year? 22\n",
            "You are 22 years old!\n"
          ]
        }
      ]
    },
    {
      "cell_type": "code",
      "source": [
        "s1=input(\"Enter the first number: \")\n",
        "s2=input(\"Enter the second number: \")\n",
        "Add= float(s1)+float(s2)\n",
        "print('Sum: {1} + {1} = {2}'.format(s1, s2, Add))\n",
        "Subtract= float(s1)-float(s2)\n",
        "print('Difference: {1} - {1} = {2}'.format(s1, s2, Subtract))\n",
        "Multiply= float(s1)*float(s2)\n",
        "print('Product: {1} * {1} = {2}'.format(s1, s2, Multiply))\n",
        "Divide= float(s1)/float(s2)\n",
        "print('Quotient: {1} / {1} = {2}'.format(s1, s2, Divide))\n",
        "Exponent= float(s1)**float(s2)\n",
        "print('Power: {1} ** {1} = {2}'.format(s1, s2, Exponent))\n",
        "Remainder= float(s1)%float(s2)\n",
        "print('Division with Remainder: {0} / {1} = 0.0\\n Remainder: {2}'.format(s1, s2, Remainder))"
      ],
      "metadata": {
        "colab": {
          "base_uri": "https://localhost:8080/"
        },
        "id": "bWD68qHL3i_K",
        "outputId": "f8254f5f-e42b-40f4-81af-c6175e9008c4"
      },
      "execution_count": 84,
      "outputs": [
        {
          "output_type": "stream",
          "name": "stdout",
          "text": [
            "Enter the first number: 16\n",
            "Enter the second number: 8\n",
            "Sum: 8 + 8 = 24.0\n",
            "Difference: 8 - 8 = 8.0\n",
            "Product: 8 * 8 = 128.0\n",
            "Quotient: 8 / 8 = 2.0\n",
            "Power: 8 ** 8 = 4294967296.0\n",
            "Division with Remainder: 16 / 8 = 0.0\n",
            " Remainder: 0.0\n"
          ]
        }
      ]
    },
    {
      "cell_type": "code",
      "source": [
        "if 5 + 10:\n",
        "  print(\"5 and 10 is not equal\")"
      ],
      "metadata": {
        "colab": {
          "base_uri": "https://localhost:8080/"
        },
        "id": "D6wKABTK6VOv",
        "outputId": "dbaae191-23c6-410c-ff2a-d42637ae8892"
      },
      "execution_count": 62,
      "outputs": [
        {
          "output_type": "stream",
          "name": "stdout",
          "text": [
            "5 and 10 is not equal\n"
          ]
        }
      ]
    },
    {
      "cell_type": "code",
      "source": [
        "choice = int(input(\"Enter your choice:\"))\n",
        "print(\"Enter two numbers: \")\n",
        "num1 = float(input())\n",
        "num2 = float(input())"
      ],
      "metadata": {
        "colab": {
          "base_uri": "https://localhost:8080/"
        },
        "id": "5VI_wgIH7ROE",
        "outputId": "f0f5f526-6dce-4d36-cba6-4f0653e936ae"
      },
      "execution_count": 63,
      "outputs": [
        {
          "name": "stdout",
          "output_type": "stream",
          "text": [
            "Enter your choice:16\n",
            "Enter two numbers: \n",
            "6\n",
            "8\n"
          ]
        }
      ]
    },
    {
      "cell_type": "code",
      "source": [
        "if choice == 1:\n",
        "  res = num1 + num2\n",
        "  print(\"Result =\", res)\n",
        "elif choice == 2:\n",
        "    res = num1 - num2\n",
        "    print(\"Result = \", res)\n",
        "elif  choice == 3:\n",
        "    res = num1 * num2\n",
        "    print(\"Result \", res)\n",
        "elif choice == 4:\n",
        "    res = num1 / num2\n",
        "    print(\"Result \", res)\n",
        "elif choice == 5:\n",
        "    exit()\n",
        "else:\n",
        "    print(\"wrong output\")"
      ],
      "metadata": {
        "colab": {
          "base_uri": "https://localhost:8080/"
        },
        "id": "5IO-Q431MoM_",
        "outputId": "1916508a-21ee-4443-a37f-5f99a9e8feb7"
      },
      "execution_count": 87,
      "outputs": [
        {
          "output_type": "stream",
          "name": "stdout",
          "text": [
            "wrong output\n"
          ]
        }
      ]
    },
    {
      "cell_type": "code",
      "source": [
        "thislist = [\"apple\", \"banana\", \"cherry\"]\n",
        "\n",
        "print(\"thislist['apple']\")"
      ],
      "metadata": {
        "colab": {
          "base_uri": "https://localhost:8080/"
        },
        "id": "ry-hj4QB7tDG",
        "outputId": "968f367b-5f7c-4cf3-9be3-97f4eeda932c"
      },
      "execution_count": 66,
      "outputs": [
        {
          "output_type": "stream",
          "name": "stdout",
          "text": [
            "thislist['apple']\n"
          ]
        }
      ]
    },
    {
      "cell_type": "code",
      "source": [
        "thislist = [\"apple\", \"blackcurrant\", \"cherry\"]\n",
        "thislist[1] = \"blackcurrant\"\n",
        "\n",
        "print(thislist)"
      ],
      "metadata": {
        "colab": {
          "base_uri": "https://localhost:8080/"
        },
        "id": "yLnyA7cN9Csi",
        "outputId": "5594143e-cbeb-44a9-b930-213069a68f60"
      },
      "execution_count": 73,
      "outputs": [
        {
          "output_type": "stream",
          "name": "stdout",
          "text": [
            "['apple', 'blackcurrant', 'cherry']\n"
          ]
        }
      ]
    },
    {
      "cell_type": "code",
      "source": [
        "thislist = [\"apple\", \"banana\", \"cherry\"]\n",
        "thislist.append(\"orange\")\n",
        "\n",
        "print(thislist)"
      ],
      "metadata": {
        "colab": {
          "base_uri": "https://localhost:8080/"
        },
        "id": "wmiwD4PSAf_w",
        "outputId": "5102fd6b-46e5-4996-b41b-5abaaee20ca0"
      },
      "execution_count": 72,
      "outputs": [
        {
          "output_type": "stream",
          "name": "stdout",
          "text": [
            "['apple', 'banana', 'cherry', 'orange']\n"
          ]
        }
      ]
    },
    {
      "cell_type": "code",
      "source": [
        "x = [7, 4, 3, 2, 5]\n",
        "x.remove(5)\n",
        "\n",
        "print(x)"
      ],
      "metadata": {
        "colab": {
          "base_uri": "https://localhost:8080/"
        },
        "id": "tyHVhrnaCf2P",
        "outputId": "1b15c19c-d2fc-4967-d384-ddc596f56406"
      },
      "execution_count": 75,
      "outputs": [
        {
          "output_type": "stream",
          "name": "stdout",
          "text": [
            "[7, 4, 3, 2]\n"
          ]
        }
      ]
    },
    {
      "cell_type": "code",
      "source": [
        "z = [7,5,3,3]\n",
        "print(z.pop(1)) \n",
        "print(z)"
      ],
      "metadata": {
        "colab": {
          "base_uri": "https://localhost:8080/"
        },
        "id": "0Dgib_z0E6Il",
        "outputId": "7946c8d2-91d2-4fd9-a8db-cffa58ff32db"
      },
      "execution_count": 79,
      "outputs": [
        {
          "output_type": "stream",
          "name": "stdout",
          "text": [
            "5\n",
            "[7, 3, 3]\n"
          ]
        }
      ]
    },
    {
      "cell_type": "code",
      "source": [
        "x = [1,2,3]\n",
        "x.extend([4,5]) \n",
        "print(x)"
      ],
      "metadata": {
        "colab": {
          "base_uri": "https://localhost:8080/"
        },
        "id": "SRf-CriQG7F3",
        "outputId": "316d7bc7-fe9a-4edb-88f2-06cd92b07b8c"
      },
      "execution_count": 80,
      "outputs": [
        {
          "output_type": "stream",
          "name": "stdout",
          "text": [
            "[1, 2, 3, 4, 5]\n"
          ]
        }
      ]
    },
    {
      "cell_type": "code",
      "source": [
        "z = [1,2,3,4,5]\n",
        "z.insert(4, [1, 2]) \n",
        "print(z)"
      ],
      "metadata": {
        "colab": {
          "base_uri": "https://localhost:8080/"
        },
        "id": "TUpE5jHAHPg8",
        "outputId": "6b3748e3-6bf3-469a-e478-55c605d6f693"
      },
      "execution_count": 81,
      "outputs": [
        {
          "output_type": "stream",
          "name": "stdout",
          "text": [
            "[1, 2, 3, 4, [1, 2], 5]\n"
          ]
        }
      ]
    },
    {
      "cell_type": "code",
      "source": [
        "import numpy\n",
        "lst = [1,7,0,6,2,5,6]\n",
        "arr = numpy.asarray(lst)\n",
        "print(\"1,7,0,6,2,5,6:\", lst)\n",
        "(\"numpy: \", arr)\n",
        "arr1 = numpy.asarray(arr)\n",
        "print(\"arr: \" , arr1)\n",
        "arr1[3] = 23\n",
        "print(\"lst: \" , lst) \n",
        "print(\"arr1: \" , arr1)"
      ],
      "metadata": {
        "colab": {
          "base_uri": "https://localhost:8080/"
        },
        "id": "81cvmN_sHvUX",
        "outputId": "954f64be-22e5-470c-d552-a9db9c7aa7a7"
      },
      "execution_count": 83,
      "outputs": [
        {
          "output_type": "stream",
          "name": "stdout",
          "text": [
            "1,7,0,6,2,5,6: [1, 7, 0, 6, 2, 5, 6]\n",
            "arr:  [1 7 0 6 2 5 6]\n",
            "lst:  [1, 7, 0, 6, 2, 5, 6]\n",
            "arr1:  [ 1  7  0 23  2  5  6]\n"
          ]
        }
      ]
    }
  ]
}